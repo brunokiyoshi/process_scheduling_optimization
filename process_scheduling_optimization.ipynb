{
 "cells": [
  {
   "cell_type": "markdown",
   "metadata": {
    "pycharm": {
     "name": "#%% md\n"
    }
   },
   "source": [
    "# Process scheduling"
   ]
  },
  {
   "cell_type": "markdown",
   "metadata": {},
   "source": [
    "## Problem definition"
   ]
  },
  {
   "cell_type": "markdown",
   "metadata": {
    "pycharm": {
     "name": "#%% md\n"
    }
   },
   "source": [
    "A set of n jobs must be processed in a machine that can handle one job at a time.\n",
    "Task j needs pj hours to be processed.\n",
    "A directed and acyclic graph G = (V, E), with V = {1, . . . , n}, establishes a partial\n",
    "order for job processing in the machine. That is, if there exists a path δi,j from i to\n",
    "j in G, then job i must be processed before job j.\n",
    "Given nonnegative weights wj , j = 1, . . . , n, in which order should we process the\n",
    "jobs in order to minimize the weighted sum of the start processing time of all jobs,\n",
    "while respecting the precedence order? For the modeling task that follows, sj is the\n",
    "instant that job j starts to be processed.\n",
    "Tasks:<br>\n",
    "(a) Formulate the problem in mixed-integer linear programming using discrete and\n",
    "continuous variables.<br>\n",
    "(b) Model the problem in AMPL and solve the instance given below, in which\n",
    "V = {1, . . . , 12}. Present the results. <br>"
   ]
  },
  {
   "cell_type": "markdown",
   "metadata": {
    "pycharm": {
     "name": "#%% md\n"
    }
   },
   "source": [
    "| job (j)  | length (pj)| weight (wj) | Arcs (j,i)    |\n",
    "|----|----|----|---------------|\n",
    "| 1  | 3  | 5  | (1,3)         |\n",
    "| 2  | 2  | 3  |               |\n",
    "| 3  | 6  | 7  | (3,12), (3,7) |\n",
    "| 4  | 2  | 6  |               |\n",
    "| 5  | 5  | 1  |               |\n",
    "| 6  | 4  | 2  | (6,7)         |\n",
    "| 7  | 4  | 8  |               |\n",
    "| 8  | 3  | 4  | (8,6)         |\n",
    "| 9  | 10 | 7  |               |\n",
    "| 10 | 1  | 1  | (10,12)       |\n",
    "| 11 | 8  | 6  |               |\n",
    "| 12 | 7  | 2  |               |"
   ]
  },
  {
   "cell_type": "markdown",
   "metadata": {},
   "source": [
    "### Model"
   ]
  },
  {
   "cell_type": "markdown",
   "metadata": {},
   "source": [
    "\\begin{equation}\n",
    "\\min  \\sum_{j =1}^{N} s_j \\times w_j \\\\\n",
    "\\mathrm{s.t.} : N \\in \\mathbb{Z}^{+} \\\\\n",
    "s_{j} \\ge (s_i+p_i).b_{i,j} \\\\\n",
    "s_{i} \\ge (s_j+p_j).\\hat{b}_{i,j} \\\\\n",
    "s_j \\in \\mathbb{R}_{\\ge 0} \\space \\forall j \\\\\n",
    "p_j \\in \\mathbb{R}_{+} \\\\\n",
    "w_j \\in \\mathbb{R}_{+} \\\\\n",
    "b_{i,j} \\in \\{0,1\\} \\space \\forall i,j \\\\\n",
    "\\hat{b}_{i,j} \\in \\{0,1\\} \\space \\forall i,j \\\\\n",
    "b_{i,j}=1-\\hat{b}_{i,j}\\space \\forall i,j \\\\\n",
    "b_{j,j}=0\\space \\forall j \\\\\n",
    "arc_{i,j} \\in \\{0,1\\} \\space \\forall i,j \\\\\n",
    "b_{i,j} \\ge arc_{i,j}\n",
    "\\end{equation}"
   ]
  },
  {
   "cell_type": "markdown",
   "metadata": {},
   "source": [
    "### Modeling (instance)"
   ]
  },
  {
   "cell_type": "code",
   "execution_count": 1,
   "metadata": {
    "collapsed": false,
    "jupyter": {
     "outputs_hidden": false
    },
    "pycharm": {
     "name": "#%%\n"
    }
   },
   "outputs": [],
   "source": [
    "import gurobipy as gp\n",
    "from gurobipy import GRB, Model\n",
    "import pandas as pd\n",
    "import numpy as np"
   ]
  },
  {
   "cell_type": "markdown",
   "metadata": {},
   "source": [
    "#### Create supporting (instance) data"
   ]
  },
  {
   "cell_type": "code",
   "execution_count": 2,
   "metadata": {
    "collapsed": false,
    "jupyter": {
     "outputs_hidden": false
    },
    "pycharm": {
     "name": "#%%\n"
    },
    "tags": [
     "declarations"
    ]
   },
   "outputs": [
    {
     "name": "stdout",
     "output_type": "stream",
     "text": [
      "dependance table\n",
      " [[0. 0. 1. 0. 0. 0. 0. 0. 0. 0. 0. 0.]\n",
      " [0. 0. 0. 0. 0. 0. 0. 0. 0. 0. 0. 0.]\n",
      " [0. 0. 0. 0. 0. 0. 1. 0. 0. 0. 0. 1.]\n",
      " [0. 0. 0. 0. 0. 0. 0. 0. 0. 0. 0. 0.]\n",
      " [0. 0. 0. 0. 0. 0. 0. 0. 0. 0. 0. 0.]\n",
      " [0. 0. 0. 0. 0. 0. 1. 0. 0. 0. 0. 0.]\n",
      " [0. 0. 0. 0. 0. 0. 0. 0. 0. 0. 0. 0.]\n",
      " [0. 0. 0. 0. 0. 1. 0. 0. 0. 0. 0. 0.]\n",
      " [0. 0. 0. 0. 0. 0. 0. 0. 0. 0. 0. 0.]\n",
      " [0. 0. 0. 0. 0. 0. 0. 0. 0. 0. 0. 1.]\n",
      " [0. 0. 0. 0. 0. 0. 0. 0. 0. 0. 0. 0.]\n",
      " [0. 0. 0. 0. 0. 0. 0. 0. 0. 0. 0. 0.]]\n"
     ]
    }
   ],
   "source": [
    "N = 12; # 'size' of the problem, here it's both the number of processes and number of slots\n",
    "\n",
    "# Create a list with the well indexes as given by the problem (prevents python's 0-indexing)\n",
    "V = [item for item in range(1, N+1)]\n",
    "\n",
    "# supporting data:\n",
    "w = {j:[5,3,7,6,1,2,8,4,7,1,6,2][j-1] for j in V} # these are the given process 'weights' (importances)\n",
    "p = {j:[3,2,6,2,5,4,4,3,10,1,8,7][j-1] for j in V} # these are the given process time lenghts\n",
    "\n",
    "\"\"\"\n",
    "'dependance table'\n",
    "     p1 p2 p3 p4\n",
    "p1  [0  1  0  0] <- p1 must come before p2\n",
    "p2  [0  0  0  0]\n",
    "p3  [1  0  0  0] <- p3 must come before p1\n",
    "p4  [0  0  0  0]\n",
    "\"\"\"\n",
    "D = np.zeros((N,N))\n",
    "arcs = ((1,3),(3,12),(3,7),(6,7),(8,6),(10,12)) # these arcs are in order (i,j), where i depends on j\n",
    "for arc in arcs:\n",
    "    x=int(arc[0]) - 1 # minus one is because of python 0 indexing\n",
    "    y=int(arc[1]) - 1 # minus one is because of python 0 indexing\n",
    "    D[x][y] = 1\n",
    "print('dependance table\\n',D)"
   ]
  },
  {
   "cell_type": "markdown",
   "metadata": {},
   "source": [
    "#### Model creation"
   ]
  },
  {
   "cell_type": "code",
   "execution_count": 3,
   "metadata": {
    "collapsed": false,
    "jupyter": {
     "outputs_hidden": false
    },
    "pycharm": {
     "name": "#%%\n"
    }
   },
   "outputs": [
    {
     "name": "stdout",
     "output_type": "stream",
     "text": [
      "Set parameter Username\n",
      "Academic license - for non-commercial use only - expires 2022-05-20\n"
     ]
    }
   ],
   "source": [
    "\n",
    "m = Model(\"process_scheduling\") \n",
    "\n",
    "# Decision variables:\n",
    "# 1)represents the starting time of each process\n",
    "'''\n",
    "s: [1, 3, 4, ...] process 1 starts at time=1, process 2 starts at time=3...\n",
    "'''\n",
    "s = m.addVars(V, vtype=GRB.CONTINUOUS, name=\"s\") \n",
    "\n",
    "# 2)decision varibles. If B[i,j]=1, then process i comes before process j\n",
    "\"\"\"\n",
    "'comes before table'\n",
    "     p1 p2 p3 p4\n",
    "p1  [0  1  1  1] p1 comes before p2, p3 and p4 - first\n",
    "p2  [0  0  0  0] p2 comes before no one-last\n",
    "p3  [0  1  0  1] p3 comes before p2 and p4 - second\n",
    "p4  [0  1  0  0] p4 - third\n",
    "p1->p3->p4->p2\n",
    "\"\"\"\n",
    "\n",
    "B=m.addVars(V, V, vtype=GRB.BINARY, name='B')\n",
    "NB=m.addVars(V, V, vtype=GRB.BINARY, name='NB') # negation of B\n",
    "\n",
    "m.update()"
   ]
  },
  {
   "cell_type": "markdown",
   "metadata": {},
   "source": [
    "#### Constraints"
   ]
  },
  {
   "cell_type": "code",
   "execution_count": 4,
   "metadata": {
    "collapsed": false,
    "jupyter": {
     "outputs_hidden": false
    },
    "pycharm": {
     "name": "#%%\n"
    },
    "scrolled": true,
    "tags": []
   },
   "outputs": [],
   "source": [
    "#Constraints over the binary tables\n",
    "for i in V:\n",
    "    for j in V:\n",
    "        m.addConstr(B[i,j]==1-NB[i,j], name=f\"BNB{i}_{j}\") # if job i comes before job j, then job j cannot come before job i\n",
    "\n",
    "m.update()"
   ]
  },
  {
   "cell_type": "code",
   "execution_count": 5,
   "metadata": {
    "collapsed": false,
    "jupyter": {
     "outputs_hidden": false
    },
    "pycharm": {
     "name": "#%%\n"
    },
    "scrolled": true,
    "tags": []
   },
   "outputs": [],
   "source": [
    "# Constraints related to the\n",
    "# 1)non-overlaping usages of resources\n",
    "for j in V:\n",
    "    for i in (set(V)-set([j])):\n",
    "        m.addConstr(s[j]>=(s[i]+p[i])*B[i,j])\n",
    "        m.addConstr(s[i]>=(s[j]+p[j])*NB[i,j])\n",
    "\n",
    "# 2)given process precedence requirements \n",
    "for i in V:\n",
    "    for j in V:\n",
    "        Di = i - 1\n",
    "        Dj = j - 1\n",
    "        if D[Di][Dj] == 1:\n",
    "            m.addConstr(B[i,j]==1,name=f'arc({i},{j})')\n",
    "\n",
    "# 3) a job cannot happen before itself            \n",
    "for i in V:\n",
    "    m.addConstr(B[i,i]==0)\n",
    "\n",
    "m.update()"
   ]
  },
  {
   "cell_type": "markdown",
   "metadata": {},
   "source": [
    "#### Solution"
   ]
  },
  {
   "cell_type": "code",
   "execution_count": 6,
   "metadata": {
    "collapsed": false,
    "jupyter": {
     "outputs_hidden": false
    },
    "pycharm": {
     "name": "#%%\n"
    },
    "scrolled": true,
    "tags": []
   },
   "outputs": [],
   "source": [
    "m.setObjective(sum([s[j]*w[j] for j in V]), GRB.MINIMIZE)\n",
    "\n",
    "m.update()"
   ]
  },
  {
   "cell_type": "code",
   "execution_count": 7,
   "metadata": {
    "collapsed": false,
    "jupyter": {
     "outputs_hidden": false
    },
    "pycharm": {
     "name": "#%%\n"
    },
    "scrolled": true,
    "tags": []
   },
   "outputs": [
    {
     "name": "stdout",
     "output_type": "stream",
     "text": [
      "Gurobi Optimizer version 9.5.1 build v9.5.1rc2 (win64)\n",
      "Thread count: 2 physical cores, 4 logical processors, using up to 4 threads\n",
      "Optimize a model with 162 rows, 300 columns and 306 nonzeros\n",
      "Model fingerprint: 0x7ca0adbe\n",
      "Model has 264 quadratic constraints\n",
      "Variable types: 12 continuous, 288 integer (288 binary)\n",
      "Coefficient statistics:\n",
      "  Matrix range     [1e+00, 1e+00]\n",
      "  QMatrix range    [1e+00, 1e+00]\n",
      "  QLMatrix range   [1e+00, 1e+01]\n",
      "  Objective range  [1e+00, 8e+00]\n",
      "  Bounds range     [1e+00, 1e+00]\n",
      "  RHS range        [1e+00, 1e+00]\n",
      "Presolve removed 156 rows and 162 columns\n",
      "Presolve time: 0.00s\n",
      "Presolved: 762 rows, 894 columns, 2154 nonzeros\n",
      "Presolved model has 504 SOS constraint(s)\n",
      "Variable types: 516 continuous, 378 integer (378 binary)\n",
      "\n",
      "Root relaxation: objective 2.478783e+02, 506 iterations, 0.01 seconds (0.00 work units)\n",
      "\n",
      "    Nodes    |    Current Node    |     Objective Bounds      |     Work\n",
      " Expl Unexpl |  Obj  Depth IntInf | Incumbent    BestBd   Gap | It/Node Time\n",
      "\n",
      "     0     0  247.87830    0  244          -  247.87830      -     -    0s\n",
      "     0     0  274.41538    0  228          -  274.41538      -     -    0s\n",
      "     0     0  274.41538    0  228          -  274.41538      -     -    0s\n",
      "     0     0  282.19077    0  224          -  282.19077      -     -    0s\n",
      "     0     0  282.19077    0  193          -  282.19077      -     -    0s\n",
      "     0     0  284.40157    0  161          -  284.40157      -     -    0s\n",
      "     0     0  284.40157    0  164          -  284.40157      -     -    0s\n",
      "     0     0  285.50287    0  197          -  285.50287      -     -    0s\n",
      "     0     0  286.81818    0  198          -  286.81818      -     -    0s\n",
      "     0     0  286.84706    0  211          -  286.84706      -     -    0s\n",
      "     0     0  289.66241    0  210          -  289.66241      -     -    0s\n",
      "     0     0  290.34697    0  206          -  290.34697      -     -    0s\n",
      "     0     0  290.60709    0  232          -  290.60709      -     -    0s\n",
      "     0     0  290.86322    0  228          -  290.86322      -     -    0s\n",
      "     0     0  290.86322    0  193          -  290.86322      -     -    0s\n",
      "     0     2  290.86322    0  190          -  290.86322      -     -    0s\n",
      "*  257   113              70    1129.0000000  374.20000  66.9%   4.7    0s\n",
      "H  293   146                    1120.0000000  374.20000  66.6%   4.6    0s\n",
      "H  324   145                     902.0000000  374.20000  58.5%   5.0    0s\n",
      "*  329   145              78     898.0000000  374.20000  58.3%   5.0    0s\n",
      "H  353   158                     869.0000000  374.20000  56.9%   5.1    0s\n",
      "H 1204   509                     868.0000000  423.00000  51.3%   5.1    0s\n",
      "H 1652   625                     865.0000000  427.00000  50.6%   8.2    1s\n",
      "* 2373   666              54     861.0000000  466.20000  45.9%   9.8    2s\n",
      "H 2398   633                     860.0000000  466.20000  45.8%   9.8    2s\n",
      "H 3600   840                     859.0000000  509.03597  40.7%   9.8    3s\n",
      "H 4532  1115                     856.0000000  529.66447  38.1%   9.9    3s\n",
      "  6164  1489  829.00000   42    7  856.00000  555.20955  35.1%  10.0    5s\n",
      " 17490  2545  684.00000   41   13  856.00000  656.00000  23.4%   9.7   10s\n",
      " 30835  1776 infeasible   50       856.00000  748.00000  12.6%   9.4   15s\n",
      "\n",
      "Cutting planes:\n",
      "  Gomory: 3\n",
      "  MIR: 27\n",
      "\n",
      "Explored 37097 nodes (340886 simplex iterations) in 16.78 seconds (7.12 work units)\n",
      "Thread count was 4 (of 4 available processors)\n",
      "\n",
      "Solution count 10: 856 859 860 ... 1120\n",
      "\n",
      "Optimal solution found (tolerance 1.00e-04)\n",
      "Best objective 8.560000001483e+02, best bound 8.560000001483e+02, gap 0.0000%\n"
     ]
    }
   ],
   "source": [
    "m.optimize()"
   ]
  },
  {
   "cell_type": "code",
   "execution_count": 8,
   "metadata": {},
   "outputs": [
    {
     "name": "stdout",
     "output_type": "stream",
     "text": [
      "Process 1 starts at 2 and ends at 5\n",
      "Process 2 starts at 5 and ends at 7\n",
      "Process 3 starts at 10 and ends at 16\n",
      "Process 4 starts at 0 and ends at 2\n",
      "Process 5 starts at 50 and ends at 55\n",
      "Process 6 starts at 16 and ends at 20\n",
      "Process 7 starts at 20 and ends at 24\n",
      "Process 8 starts at 7 and ends at 10\n",
      "Process 9 starts at 33 and ends at 43\n",
      "Process 10 starts at 24 and ends at 25\n",
      "Process 11 starts at 25 and ends at 33\n",
      "Process 12 starts at 43 and ends at 50\n"
     ]
    }
   ],
   "source": [
    "for j in V:\n",
    "    start=round(s[j].x)\n",
    "    end = start+p[j]\n",
    "    print(f'Process {j} starts at {start} and ends at {end}')"
   ]
  }
 ],
 "metadata": {
  "kernelspec": {
   "display_name": "Python 3 (ipykernel)",
   "language": "python",
   "name": "python3"
  },
  "language_info": {
   "codemirror_mode": {
    "name": "ipython",
    "version": 3
   },
   "file_extension": ".py",
   "mimetype": "text/x-python",
   "name": "python",
   "nbconvert_exporter": "python",
   "pygments_lexer": "ipython3",
   "version": "3.8.12"
  }
 },
 "nbformat": 4,
 "nbformat_minor": 4
}
